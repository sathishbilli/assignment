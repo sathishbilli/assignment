{
 "cells": [
  {
   "cell_type": "code",
   "execution_count": 1,
   "id": "668133d8",
   "metadata": {},
   "outputs": [],
   "source": [
    "#kilo to miles\n",
    "def kilo_miles(kilo):\n",
    "    return kilo*0.62137119"
   ]
  },
  {
   "cell_type": "code",
   "execution_count": 2,
   "id": "1ecc01bd",
   "metadata": {},
   "outputs": [
    {
     "data": {
      "text/plain": [
       "0.62137119"
      ]
     },
     "execution_count": 2,
     "metadata": {},
     "output_type": "execute_result"
    }
   ],
   "source": [
    "kilo_miles(1)"
   ]
  },
  {
   "cell_type": "code",
   "execution_count": 4,
   "id": "c3db55de",
   "metadata": {},
   "outputs": [],
   "source": [
    "# celto far\n",
    "def cel_far(c):\n",
    "    return c*1.8+32"
   ]
  },
  {
   "cell_type": "code",
   "execution_count": 6,
   "id": "b47ad10a",
   "metadata": {},
   "outputs": [
    {
     "data": {
      "text/plain": [
       "35.6"
      ]
     },
     "execution_count": 6,
     "metadata": {},
     "output_type": "execute_result"
    }
   ],
   "source": [
    "cel_far(2)"
   ]
  },
  {
   "cell_type": "code",
   "execution_count": 15,
   "id": "eb60c9dd",
   "metadata": {},
   "outputs": [],
   "source": [
    "# display_cal\n",
    "import calendar\n",
    "def display_cal(y=2020,m=1):\n",
    "    yy = y\n",
    "    mm = m\n",
    "\n",
    "    # display the calendar\n",
    "    print (calendar.month(yy, mm))"
   ]
  },
  {
   "cell_type": "code",
   "execution_count": 73,
   "id": "6cfe55d8",
   "metadata": {},
   "outputs": [],
   "source": [
    "# quadratic_equation\n",
    "import math\n",
    "def quadratic_equation(x2,x,number):\n",
    "    a=x2\n",
    "    b=x\n",
    "    c=number\n",
    "    sqr=math.sqrt((b*b)-(4*a*c))\n",
    "    val1=((-b)+sqr)/2*a\n",
    "    val2=((-b)-sqr)/2*a\n",
    "    return val1,val2"
   ]
  },
  {
   "cell_type": "code",
   "execution_count": 74,
   "id": "3764452c",
   "metadata": {},
   "outputs": [
    {
     "data": {
      "text/plain": [
       "(9.0, 6.0)"
      ]
     },
     "execution_count": 74,
     "metadata": {},
     "output_type": "execute_result"
    }
   ],
   "source": [
    "quadratic_equation(3,-5,2)"
   ]
  },
  {
   "cell_type": "code",
   "execution_count": 66,
   "id": "3d9e68fa",
   "metadata": {},
   "outputs": [],
   "source": [
    "#swap two number without temp var\n",
    "a=10\n",
    "b=20\n",
    "\n",
    "a,b=b,a\n"
   ]
  },
  {
   "cell_type": "code",
   "execution_count": 67,
   "id": "83294146",
   "metadata": {},
   "outputs": [
    {
     "name": "stdout",
     "output_type": "stream",
     "text": [
      "20 10\n"
     ]
    }
   ],
   "source": [
    "print(a,b)"
   ]
  },
  {
   "cell_type": "code",
   "execution_count": null,
   "id": "f949b562",
   "metadata": {},
   "outputs": [],
   "source": []
  },
  {
   "cell_type": "code",
   "execution_count": null,
   "id": "2c976fda",
   "metadata": {},
   "outputs": [],
   "source": []
  }
 ],
 "metadata": {
  "kernelspec": {
   "display_name": "Python 3 (ipykernel)",
   "language": "python",
   "name": "python3"
  },
  "language_info": {
   "codemirror_mode": {
    "name": "ipython",
    "version": 3
   },
   "file_extension": ".py",
   "mimetype": "text/x-python",
   "name": "python",
   "nbconvert_exporter": "python",
   "pygments_lexer": "ipython3",
   "version": "3.9.7"
  }
 },
 "nbformat": 4,
 "nbformat_minor": 5
}
