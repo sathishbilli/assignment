{
 "cells": [
  {
   "cell_type": "code",
   "execution_count": 14,
   "id": "ef170d9e",
   "metadata": {},
   "outputs": [
    {
     "name": "stdout",
     "output_type": "stream",
     "text": [
      "hello python\n"
     ]
    }
   ],
   "source": [
    "#print hello python\n",
    "print('hello python')"
   ]
  },
  {
   "cell_type": "code",
   "execution_count": 13,
   "id": "d03d0fed",
   "metadata": {},
   "outputs": [],
   "source": [
    "#aritmatic_opration function\n",
    "def aritmatic_opration(a,b):\n",
    "    return a+b,a-b,a*b,a/b,a%b"
   ]
  },
  {
   "cell_type": "code",
   "execution_count": 4,
   "id": "62f832ba",
   "metadata": {},
   "outputs": [
    {
     "data": {
      "text/plain": [
       "(18, 0, 81, 1.0, 0)"
      ]
     },
     "execution_count": 4,
     "metadata": {},
     "output_type": "execute_result"
    }
   ],
   "source": [
    "aritmatic_opration(9,9)"
   ]
  },
  {
   "cell_type": "code",
   "execution_count": 10,
   "id": "5be3988a",
   "metadata": {},
   "outputs": [],
   "source": [
    "# random number generators\n",
    "from random import random as r"
   ]
  },
  {
   "cell_type": "code",
   "execution_count": 12,
   "id": "e0af4d58",
   "metadata": {},
   "outputs": [
    {
     "name": "stdout",
     "output_type": "stream",
     "text": [
      "0.320258045080161\n"
     ]
    }
   ],
   "source": [
    "print(r())"
   ]
  },
  {
   "cell_type": "code",
   "execution_count": 25,
   "id": "a391a78d",
   "metadata": {},
   "outputs": [],
   "source": [
    "#swap two numbers\n",
    "def swap(a,b):\n",
    "    c=a\n",
    "    a=b\n",
    "    b=c\n",
    "    print(f'a is {a} , b is {b}')\n",
    "    "
   ]
  },
  {
   "cell_type": "code",
   "execution_count": 26,
   "id": "c819fbf1",
   "metadata": {},
   "outputs": [
    {
     "name": "stdout",
     "output_type": "stream",
     "text": [
      "a is 2 , b is 1\n"
     ]
    }
   ],
   "source": [
    "swap(1,2)"
   ]
  },
  {
   "cell_type": "code",
   "execution_count": 27,
   "id": "29f7cc2b",
   "metadata": {},
   "outputs": [],
   "source": [
    "def area_triangle(b,h):\n",
    "    return (b*h)/2"
   ]
  },
  {
   "cell_type": "code",
   "execution_count": 28,
   "id": "6586bf68",
   "metadata": {},
   "outputs": [
    {
     "data": {
      "text/plain": [
       "50.0"
      ]
     },
     "execution_count": 28,
     "metadata": {},
     "output_type": "execute_result"
    }
   ],
   "source": [
    "area_triangle(10,10)"
   ]
  },
  {
   "cell_type": "code",
   "execution_count": null,
   "id": "e06e10e1",
   "metadata": {},
   "outputs": [],
   "source": []
  }
 ],
 "metadata": {
  "kernelspec": {
   "display_name": "Python 3 (ipykernel)",
   "language": "python",
   "name": "python3"
  },
  "language_info": {
   "codemirror_mode": {
    "name": "ipython",
    "version": 3
   },
   "file_extension": ".py",
   "mimetype": "text/x-python",
   "name": "python",
   "nbconvert_exporter": "python",
   "pygments_lexer": "ipython3",
   "version": "3.9.7"
  }
 },
 "nbformat": 4,
 "nbformat_minor": 5
}
