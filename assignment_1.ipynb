{
 "cells": [
  {
   "cell_type": "code",
   "execution_count": 14,
   "id": "edada8c8",
   "metadata": {},
   "outputs": [
    {
     "name": "stdout",
     "output_type": "stream",
     "text": [
      "hello python\n"
     ]
    }
   ],
   "source": [
    "#print hello python\n",
    "print('hello python')"
   ]
  },
  {
   "cell_type": "code",
   "execution_count": 13,
   "id": "5e3c6f96",
   "metadata": {},
   "outputs": [],
   "source": [
    "#aritmatic_opration function\n",
    "def aritmatic_opration(a,b):\n",
    "    return a+b,a-b,a*b,a/b,a%b"
   ]
  },
  {
   "cell_type": "code",
   "execution_count": 4,
   "id": "cb1e88e8",
   "metadata": {},
   "outputs": [
    {
     "data": {
      "text/plain": [
       "(18, 0, 81, 1.0, 0)"
      ]
     },
     "execution_count": 4,
     "metadata": {},
     "output_type": "execute_result"
    }
   ],
   "source": [
    "aritmatic_opration(9,9)"
   ]
  },
  {
   "cell_type": "code",
   "execution_count": 10,
   "id": "d322ec2c",
   "metadata": {},
   "outputs": [],
   "source": [
    "# random number generators\n",
    "from random import random as r"
   ]
  },
  {
   "cell_type": "code",
   "execution_count": 12,
   "id": "8f418aff",
   "metadata": {},
   "outputs": [
    {
     "name": "stdout",
     "output_type": "stream",
     "text": [
      "0.320258045080161\n"
     ]
    }
   ],
   "source": [
    "print(r())"
   ]
  },
  {
   "cell_type": "code",
   "execution_count": 25,
   "id": "9a25e7ce",
   "metadata": {},
   "outputs": [],
   "source": [
    "#swap two numbers\n",
    "def swap(a,b):\n",
    "    c=a\n",
    "    a=b\n",
    "    b=c\n",
    "    print(f'a is {a} , b is {b}')\n",
    "    "
   ]
  },
  {
   "cell_type": "code",
   "execution_count": 26,
   "id": "64056e0b",
   "metadata": {},
   "outputs": [
    {
     "name": "stdout",
     "output_type": "stream",
     "text": [
      "a is 2 , b is 1\n"
     ]
    }
   ],
   "source": [
    "swap(1,2)"
   ]
  },
  {
   "cell_type": "code",
   "execution_count": null,
   "id": "0361a1d2",
   "metadata": {},
   "outputs": [],
   "source": []
  }
 ],
 "metadata": {
  "kernelspec": {
   "display_name": "Python 3 (ipykernel)",
   "language": "python",
   "name": "python3"
  },
  "language_info": {
   "codemirror_mode": {
    "name": "ipython",
    "version": 3
   },
   "file_extension": ".py",
   "mimetype": "text/x-python",
   "name": "python",
   "nbconvert_exporter": "python",
   "pygments_lexer": "ipython3",
   "version": "3.9.7"
  }
 },
 "nbformat": 4,
 "nbformat_minor": 5
}
